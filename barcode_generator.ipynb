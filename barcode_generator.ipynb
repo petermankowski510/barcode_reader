{
 "cells": [
  {
   "cell_type": "code",
   "execution_count": 7,
   "metadata": {},
   "outputs": [],
   "source": [
    "import qrcode\n",
    "from barcode import EAN13\n",
    "from barcode.writer import ImageWriter\n",
    "from PIL import Image"
   ]
  },
  {
   "cell_type": "code",
   "execution_count": 8,
   "metadata": {},
   "outputs": [],
   "source": [
    "\"\"\"EAN13 accepts a string which contains 12 digits instead of 13. The last digit is a checksum\n",
    "    and will be generated automatically. If your input is a 13 digits string,\n",
    "    the last digit will be ignored.\"\"\"\n",
    "\n",
    "with open('barcode1.png', 'wb') as f:\n",
    "    EAN13('123456789999', writer=ImageWriter()).write(f)"
   ]
  },
  {
   "cell_type": "code",
   "execution_count": 9,
   "metadata": {},
   "outputs": [],
   "source": [
    "barcode_p = Image.open(r\"barcode1.png\")\n",
    "barcode_p.show()"
   ]
  },
  {
   "cell_type": "code",
   "execution_count": 10,
   "metadata": {},
   "outputs": [],
   "source": [
    "\"\"\"There are 4 constants available for error_correction. The higher errors can be corrected, the better it is.\n",
    "ERROR_CORRECT_L — About 7% or less errors can be corrected.\n",
    "ERROR_CORRECT_M — About 15% or less errors can be corrected. This is the default value.\n",
    "ERROR_CORRECT_Q — About 25% or less errors can be corrected.\n",
    "ERROR_CORRECT_H — About 30% or less errors can be corrected.\"\"\"\n",
    "\n",
    "# Data to encode\n",
    "data = \"QR sticker 1\"\n",
    "\n",
    "qr = qrcode.QRCode(\n",
    "    version=1,\n",
    "    error_correction=qrcode.constants.ERROR_CORRECT_H,\n",
    "    box_size=10,\n",
    "    border=4,\n",
    ")\n",
    "\n",
    "qr.add_data(data)\n",
    "qr.make(fit=True)\n",
    "img = qr.make_image(fill_color=\"black\", back_color=\"white\")\n",
    "img.save(\"qrcode1.png\")"
   ]
  },
  {
   "cell_type": "code",
   "execution_count": 11,
   "metadata": {},
   "outputs": [],
   "source": [
    "barcode_q = Image.open(r\"qrcode1.png\")\n",
    "barcode_q.show()"
   ]
  },
  {
   "cell_type": "code",
   "execution_count": null,
   "metadata": {},
   "outputs": [],
   "source": []
  }
 ],
 "metadata": {
  "kernelspec": {
   "display_name": "Python 3",
   "language": "python",
   "name": "python3"
  },
  "language_info": {
   "codemirror_mode": {
    "name": "ipython",
    "version": 3
   },
   "file_extension": ".py",
   "mimetype": "text/x-python",
   "name": "python",
   "nbconvert_exporter": "python",
   "pygments_lexer": "ipython3",
   "version": "3.7.4"
  }
 },
 "nbformat": 4,
 "nbformat_minor": 4
}
