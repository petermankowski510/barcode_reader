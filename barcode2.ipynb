{
 "cells": [
  {
   "cell_type": "code",
   "execution_count": 6,
   "metadata": {},
   "outputs": [],
   "source": [
    "\"\"\"\n",
    "author: Peter Mankowski\n",
    "\n",
    "This pyzbar can return 3 fields based on the barcode object:\n",
    "-Type: There are several kinds of barcodes are available. Which are differentiated by unique code\n",
    "    names like CODE-128, Code-11, CODE-39, etc. If the symbol detected by pyzabr then is QRcode for that type is QR-CODE.\n",
    "- Data: This is data that is embedded inside the barcode. This data is of various kinds\n",
    "    ( alphanumerical, numerical, binary, etc..) depending upon the type of barcode.\n",
    "- Location: This is the collection of points that are located in the code. For barcodes, \n",
    "    these points are starting and ending line boundaries. and for QRcode, it is a list of four points corresponding\n",
    "    to the four corners of the QR code quad.\"\"\"\n",
    "\n",
    "import cv2\n",
    "from pyzbar import pyzbar\n",
    "from pyzbar.pyzbar import decode\n",
    "import datetime;"
   ]
  },
  {
   "cell_type": "code",
   "execution_count": 7,
   "metadata": {},
   "outputs": [],
   "source": [
    "def read_barcodes(frame):\n",
    "    barcodes = pyzbar.decode(frame)\n",
    "    line_thickness = 10\n",
    "    for barcode in barcodes:\n",
    "        x, y , w, h = barcode.rect\n",
    "        barcode_info = barcode.data.decode('utf-8')\n",
    "        cv2.rectangle(frame, (x, y),(x+w, y+h), (0, 0, 255), line_thickness)\n",
    "        \n",
    "        font = cv2.FONT_HERSHEY_DUPLEX\n",
    "        cv2.putText(frame, barcode_info, (x + 6, y - 6), font, 2.0, (255, 0, 0), 3)\n",
    "        \n",
    "        \"\"\"Module to manage a barcode's data, other attributes\"\"\"\n",
    "        barcode_results(barcode_info)\n",
    "    return frame"
   ]
  },
  {
   "cell_type": "code",
   "execution_count": 8,
   "metadata": {},
   "outputs": [],
   "source": [
    "def barcode_results(barcode_info):\n",
    "    \"\"\"Be carefull wheater you like to start a new file or continue the existing collection:\n",
    "        'a' append\n",
    "        'w' write\n",
    "        'r' read\"\"\"\n",
    "    with open(\"barcode_result.txt\", mode ='a') as file:\n",
    "        date_string = f'{datetime.datetime.now():%Y-%m-%d %H:%M:%S%z}'\n",
    "        file.write(\"GoodLeaf Tray:\" + barcode_info + \"\\tTime: \" + date_string + \"\\tOperator ID: 0109\\n\")\n",
    "    return None    "
   ]
  },
  {
   "cell_type": "code",
   "execution_count": 9,
   "metadata": {},
   "outputs": [],
   "source": [
    "def main():\n",
    "    #1\n",
    "    camera = cv2.VideoCapture(0)\n",
    "    ret, frame = camera.read()\n",
    "    #2\n",
    "    while ret:\n",
    "        ret, frame = camera.read()\n",
    "        frame = read_barcodes(frame)\n",
    "        cv2.imshow('Barcode/QR code reader', frame)\n",
    "        if cv2.waitKey(1) & 0xFF == 27: # Press ESC to exit\n",
    "            break\n",
    "    #3\n",
    "    camera.release()\n",
    "    cv2.destroyAllWindows()\n",
    "#4\n",
    "if __name__ == '__main__':\n",
    "    main()"
   ]
  },
  {
   "cell_type": "code",
   "execution_count": null,
   "metadata": {},
   "outputs": [],
   "source": []
  },
  {
   "cell_type": "code",
   "execution_count": null,
   "metadata": {},
   "outputs": [],
   "source": []
  }
 ],
 "metadata": {
  "kernelspec": {
   "display_name": "Python 3",
   "language": "python",
   "name": "python3"
  },
  "language_info": {
   "codemirror_mode": {
    "name": "ipython",
    "version": 3
   },
   "file_extension": ".py",
   "mimetype": "text/x-python",
   "name": "python",
   "nbconvert_exporter": "python",
   "pygments_lexer": "ipython3",
   "version": "3.7.4"
  }
 },
 "nbformat": 4,
 "nbformat_minor": 4
}
